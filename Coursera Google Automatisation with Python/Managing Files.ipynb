{
 "cells": [
  {
   "cell_type": "markdown",
   "id": "5b087993-3383-443e-af00-c08f995566ae",
   "metadata": {},
   "source": [
    "# Useful Stuff for files\n",
    "---\n",
    "\n",
    "- __with__  Satement\n",
    "   - Automatic resource management\n",
    "   - Cleaner code (no try / finally neede\n",
    "   - Context handling\n",
    "   - Simplified error handling\n",
    "   - Time-saving"
   ]
  },
  {
   "cell_type": "markdown",
   "id": "fdeacb01-fd41-444d-acb0-48e382858f83",
   "metadata": {},
   "source": [
    "# File Funktions\n",
    "\n",
    "---\n",
    "\n",
    "## `open()` Funktion\n",
    "\n",
    "### Syntax:\n",
    "__open__(*file, mode*)\n",
    "\n",
    ">| Parameter | Description |\n",
    ">|-----------|-------------|\n",
    ">| file      | \tRequired. The Path and the name of the file |\n",
    ">| mode      |  opt. A string, define which mode you want to open the file in:|\n",
    ">|           |  \"r\" - Read - Default value. Opens a file for reading, error if the file does not exist|\n",
    ">|           |  \"a\" - Append - Opens a file for appending, creates the file if it does not exist      |\n",
    ">|           |  \"w\" - Write - Opens a file for writing, creates the file if it does not exist        |\n",
    ">|           |  \"x\" - Create - Creates the specified file, returns an error if the file exist        |\n",
    ">|           |  \"+\" - Both read n write|\n",
    ">| encoding          |  \"t\" - Text - Default value. Text mode        |\n",
    ">|           |  \"b\" - Binary - Binary mode (e.g. images)        |\n",
    ">\n",
    "> The open() function opens a file, and returns it as a file object."
   ]
  },
  {
   "cell_type": "code",
   "execution_count": 1,
   "id": "97235cc7-ec01-4019-a30e-83005dfcf9da",
   "metadata": {},
   "outputs": [
    {
     "name": "stdout",
     "output_type": "stream",
     "text": [
      "Welcome to the Awesome Zone! ðŸš€\n",
      "\n",
      "\n",
      "\n",
      "This isn't your average example.txt - it's a journey into the extraordinary!\n",
      "\n",
      "\n",
      "\n",
      "Did you know?\n",
      "\n",
      "- Text files can be cool too\n",
      "\n",
      "- You're reading this right now\n",
      "\n",
      "- The person reading this is awesome\n",
      "\n",
      "\n",
      "\n",
      "Top 3 Reasons to Love This File:\n",
      "\n",
      "1. It's unique\n",
      "\n",
      "2. It's informative\n",
      "\n",
      "3. It's making you smile (we hope!)\n",
      "\n",
      "\n",
      "\n",
      "Remember: Stay curious, keep learning, and always be yourself!\n",
      "\n",
      "\n",
      "\n",
      "P.S. If you're reading this, you've just leveled up in the game of life. Congrats! ðŸŽ‰\n",
      "\n",
      "EOF\n"
     ]
    }
   ],
   "source": [
    "import os\n",
    "\n",
    "working_directory = os.getcwd()  # get (C)urrent (W)orking (D)irectory\n",
    "example_data = os.path.join(working_directory, \"..\", \"example_data\")\n",
    "file_path = os.path.join(example_data, \"file.txt\")\n",
    "\n",
    "\n",
    "with open(file_path) as file:\n",
    "    for line in file:\n",
    "        print(line)\n",
    "    "
   ]
  },
  {
   "cell_type": "markdown",
   "id": "7799ec56-423f-4248-9c20-128d30a8be03",
   "metadata": {},
   "source": [
    "# File Method's\n",
    "\n",
    "---\n",
    "\n",
    "## .`readline()` Method\n",
    "\n",
    "### Syntax:\n",
    "*file*.__readline__(*size*)\n",
    "\n",
    ">| Parameter | Description |\n",
    ">|-----------|-------------|\n",
    ">| size      | Optional. The number of bytes from the line to return. Default -1, which means the whole line. |\n",
    ">\n",
    "> You can also specified how many bytes from the line to return, by using the size parameter.\n",
    "> ! This method is recommended when file is very large, like logs"
   ]
  },
  {
   "cell_type": "markdown",
   "id": "d9989b09-e0d5-4aa4-ba27-2c67f5d525ea",
   "metadata": {},
   "source": [
    "## .`read()` Method\n",
    "\n",
    "### Syntax:\n",
    "*file*.__read__(*size*)\n",
    "\n",
    ">| Parameter | Description |\n",
    ">|-----------|-------------|\n",
    ">| size      | Optional. The number of bytes to return. Default -1, which means the whole file. |\n",
    ">\n",
    "> The read() method returns the specified number of bytes from the file. Default is -1 which means the whole file."
   ]
  },
  {
   "cell_type": "markdown",
   "id": "f0e424ab-1d94-4e3a-9c6a-b310cef30ad6",
   "metadata": {},
   "source": [
    "# OS Method's\n",
    "---"
   ]
  },
  {
   "cell_type": "markdown",
   "id": "3dc11918-a4a1-4a94-80a8-be89bfe94510",
   "metadata": {},
   "source": [
    "os.getcwd()\n",
    "\n",
    "os.mkdir(\"new_dir\")\n",
    "\n",
    "os.chdir(\"new_dir\")\n",
    "\n",
    "os.rmdir(\"newer_dir\")\n",
    "\n",
    "os.listdir(\"website\")\n",
    "\n",
    " os.chmod()"
   ]
  },
  {
   "cell_type": "markdown",
   "id": "1ac1808b-0a18-45b4-b1c0-81eed4f1a6b5",
   "metadata": {},
   "source": [
    "## os.`remove()` Method\n",
    "\n",
    "### Syntax:\n",
    "*os*.__read__(path, *, dir_fd = None)\n",
    "\n",
    ">| Parameter | Description |\n",
    ">|-----------|-------------|\n",
    ">| path      | A path-like object representing a file path. A path-like object is either a string or bytes object representing a path. |\n",
    ">| dir_fd    | (optional) : A file descriptor referring to a directory. The default value of this parameter is None. |\n",
    ">\n",
    "> If the specified path is absolute then dir_fd is ignored.\n",
    "> Note: The ‘*’ in parameter list indicates that all following parameters (Here in our case ‘dir_fd’) are keyword-only parameters and they  > can be provided using their name, not as positional parameter."
   ]
  },
  {
   "cell_type": "markdown",
   "id": "09226031-0618-4df6-a966-f182221bb909",
   "metadata": {},
   "source": [
    "## os.`rename()` Method\n",
    "\n",
    "### Syntax:\n",
    "*os*.__rename__(source, destination, *, src_dir_fd = None, dst_dir_fd = None)\n",
    "\n",
    ">| Parameter | Description |\n",
    ">|-----------|-------------|\n",
    ">| source    | A path-like object representing the file system path. This is the source file path which is to be renamed. |\n",
    ">| destination | A path-like object representing the file system path. |\n",
    ">| src_dir_fd  | (optional) A file descriptor referring to a directory. |\n",
    ">| dst_dir_fd | (optional): A file descriptor referring to a directory. |\n"
   ]
  },
  {
   "cell_type": "markdown",
   "id": "a46a4b5e-149e-44c1-ac8c-dd5e3602d779",
   "metadata": {},
   "source": [
    "## .path Module\n",
    "---\n",
    "## os.`path.exists()` Method\n",
    "\n",
    "### Syntax:\n",
    "*os*.__path.exists__(path)\n",
    "\n",
    ">| Parameter | Description |\n",
    ">|-----------|-------------|\n",
    ">| path      | A path-like object representing a file system path. A path-like object is either a string or bytes object representing a path. | \n",
    "\n",
    " Return Type: This method returns a Boolean value of class bool. This method returns True if path exists otherwise returns False. "
   ]
  },
  {
   "cell_type": "markdown",
   "id": "e3b5d252-f050-4227-a86e-83d96028bc13",
   "metadata": {},
   "source": [
    "os.path.getsize(\"spider.txt\") #This code will provide the file size\n",
    "\n",
    "os.path.getmtime(\"spider.txt\") #This code will provide a unix timestamp for the file\n",
    "datetime.datetime.fromtimestamp(timestamp)\n",
    "\n",
    "os.path.abspath(\"spider.txt\") #This code takes the file name and turns it into an absolute path\n",
    "\n",
    "os.path.isdir\n"
   ]
  },
  {
   "cell_type": "markdown",
   "id": "3352abd6-2946-40d0-bd5f-fdfe4e0e8d1e",
   "metadata": {},
   "source": [
    "# Glossar\n",
    "---\n",
    "### File descriptor\n",
    "- A token, generated by the OS, that allows programs to do more operations with the file"
   ]
  },
  {
   "cell_type": "code",
   "execution_count": null,
   "id": "85073869-4af5-422b-b12e-dbe47eccf582",
   "metadata": {},
   "outputs": [],
   "source": []
  }
 ],
 "metadata": {
  "kernelspec": {
   "display_name": "Python 3 (ipykernel)",
   "language": "python",
   "name": "python3"
  },
  "language_info": {
   "codemirror_mode": {
    "name": "ipython",
    "version": 3
   },
   "file_extension": ".py",
   "mimetype": "text/x-python",
   "name": "python",
   "nbconvert_exporter": "python",
   "pygments_lexer": "ipython3",
   "version": "3.10.3"
  }
 },
 "nbformat": 4,
 "nbformat_minor": 5
}
