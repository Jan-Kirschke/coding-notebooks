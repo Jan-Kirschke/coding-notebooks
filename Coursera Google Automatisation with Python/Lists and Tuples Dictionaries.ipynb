{
 "cells": [
  {
   "cell_type": "markdown",
   "id": "24cd5879-5367-4791-acbb-80fbf7ba3908",
   "metadata": {},
   "source": [
    "# Lists\n",
    "\n",
    "Lists are mutable"
   ]
  },
  {
   "cell_type": "code",
   "execution_count": 1,
   "id": "54e923fe-e9f0-4d91-9dfb-060ab85082de",
   "metadata": {},
   "outputs": [],
   "source": [
    "list = [\"value1\", \"value2\"]"
   ]
  },
  {
   "cell_type": "code",
   "execution_count": 2,
   "id": "2ef04bb3-2069-4180-8e0d-24c93206dcb4",
   "metadata": {},
   "outputs": [
    {
     "data": {
      "text/plain": [
       "True"
      ]
     },
     "execution_count": 2,
     "metadata": {},
     "output_type": "execute_result"
    }
   ],
   "source": [
    "x = [\"Now\", \"we\", \"are\", \"cooking!\"]\n",
    "\"are\" in x"
   ]
  },
  {
   "cell_type": "markdown",
   "id": "64e378eb-c93c-43d1-b274-2c31091a221a",
   "metadata": {},
   "source": [
    "# List Methods in Python\n",
    "---\n",
    "\n",
    "## `.append()`\n",
    "\n",
    "### Syntax:\n",
    "*list*__.append__(*elmnt*)\n",
    "\n",
    ">| Parameter | Description |\n",
    ">|-----------|-------------|\n",
    ">| elmnt     | \tRequired. An element of any type (string, number, object etc.) |\n",
    ">\n",
    "> appends an element to the end of the list."
   ]
  },
  {
   "cell_type": "code",
   "execution_count": 3,
   "id": "76fc9247-a476-48be-8a21-cccb216d7814",
   "metadata": {},
   "outputs": [
    {
     "name": "stdout",
     "output_type": "stream",
     "text": [
      "['value1', 'value2']\n",
      "['value1', 'value2', 'value3']\n"
     ]
    }
   ],
   "source": [
    "list = [\"value1\", \"value2\"]\n",
    "print(list)\n",
    "\n",
    "list.append(\"value3\")\n",
    "print(list)"
   ]
  },
  {
   "cell_type": "markdown",
   "id": "275e2036-90b5-4308-812b-07eeeadfabde",
   "metadata": {},
   "source": [
    "## `.insert()`\n",
    "\n",
    "### Syntax:\n",
    "*list*__.insert__(*pos, elmnt*)\n",
    "\n",
    ">| Parameter | Description |\n",
    ">|-----------|-------------|\n",
    ">| pos       | \tRequired. A number specifying in which position to insert the value |\n",
    ">| elmnt     |  Required. An element of any type (string, number, object etc.) |\n",
    ">\n",
    "> inserts the specified value at the specified position.\n",
    ">\n",
    "> If pos > len(list) -> No Error, elmnt will be added to the end"
   ]
  },
  {
   "cell_type": "code",
   "execution_count": 4,
   "id": "d8c56091-7929-4a9e-a5d0-16182eb012e6",
   "metadata": {},
   "outputs": [
    {
     "name": "stdout",
     "output_type": "stream",
     "text": [
      "['kiwi', 'apple', 'banana', 'cherry']\n"
     ]
    }
   ],
   "source": [
    "fruits = ['apple', 'banana', 'cherry']\n",
    "\n",
    "fruits.insert(0, \"kiwi\")  # kiwi will be the first word\n",
    "print(fruits)"
   ]
  },
  {
   "cell_type": "code",
   "execution_count": 5,
   "id": "3150f8a8-9e96-4bf1-ac95-1b28fbef6a0d",
   "metadata": {},
   "outputs": [
    {
     "name": "stdout",
     "output_type": "stream",
     "text": [
      "['kiwi', 'banana', 'cherry']\n"
     ]
    }
   ],
   "source": [
    "fruits.remove('apple') # takes the string value\n",
    "print(fruits)"
   ]
  },
  {
   "cell_type": "code",
   "execution_count": 6,
   "id": "56ef7511-ab3f-4b99-8e3f-68cbce52628f",
   "metadata": {},
   "outputs": [
    {
     "name": "stdout",
     "output_type": "stream",
     "text": [
      "['banana', 'cherry']\n"
     ]
    }
   ],
   "source": [
    "fruits.pop(0)  # Uses index position as parameter\n",
    "print(fruits)"
   ]
  },
  {
   "cell_type": "markdown",
   "id": "9be70f99-799b-4823-b4ef-fcc82df85f18",
   "metadata": {},
   "source": [
    "## `.reverse()` Method\n",
    "\n",
    "### Syntax:\n",
    "*list*__.reverse__()\n",
    "> - switches the order of the elements of the list"
   ]
  },
  {
   "cell_type": "markdown",
   "id": "ebf9b181-a969-4fc9-89f9-0bc3c27e6478",
   "metadata": {},
   "source": [
    "## `.clear()` Method\n",
    "\n",
    "### Syntax:\n",
    "*list*__.clear__()\n",
    "> - method removes all the elements from a list."
   ]
  },
  {
   "cell_type": "markdown",
   "id": "b43502e9-b50c-4041-80e6-92ac4d1fb5d0",
   "metadata": {},
   "source": [
    "## `.copy()`\n",
    "\n",
    "### Syntax:\n",
    "*list*__.reverse__()\n",
    "> - returns a copy of the specified list."
   ]
  },
  {
   "cell_type": "markdown",
   "id": "e0175234-0d23-4846-a352-5b0c401241f7",
   "metadata": {},
   "source": [
    "## `.extend()`\n",
    "\n",
    "### Syntax:\n",
    "*list*__.reverse__(*iterable*)\n",
    ">| Parameter | Description |\n",
    ">|-----------|-------------|\n",
    ">| iterable  | \tRequired.Any iterable (list, set, tuple, etc.) |\n",
    ">\n",
    "> - method adds the specified list elements (or any iterable) to the end of the current list."
   ]
  },
  {
   "cell_type": "markdown",
   "id": "162e10d6-7bc5-4dda-a00f-deac1e0c0bc0",
   "metadata": {},
   "source": [
    "# Tuples\n",
    "\n",
    "- tuple = (\"value1\", \"value2\", \"value3\")\n",
    "- The position of the element inside Tuple have meaning.\n",
    "- Tuples are immutable\n",
    "- Storing the elements of a tuple in separate variables is called unpacking\n",
    "- Tuple use cases\n",
    "    - Protecting data: Because tuples are immutable, they can be used in situations where you want to ensure the data you have cannot be changed. This can be particularly helpful\n",
    "      when dealing with sensitive or important information that should remain constant throughout the execution of a program.\n",
    "    - Hashable keys: Because they're immutable, tuples can be used as keys on dictionaries, which can be useful for complex keys.\n",
    "    - Efficiency: Tuples are generally more memory-efficient than lists, making them advantageous when dealing with large datasets."
   ]
  },
  {
   "cell_type": "markdown",
   "id": "23ae6040-e47b-4d16-a57e-a1e8d3aeddff",
   "metadata": {},
   "source": [
    "## `enumerate()` Funktion\n",
    "\n",
    "### Syntax:\n",
    "__eunumerate__(*iterable, start*)\n",
    "\n",
    ">| Parameter | Description |\n",
    ">|-----------|-------------|\n",
    ">| iterable  | \tRequired. An iterable object |\n",
    ">| elmnt     |  Optional. Number defining the startpoint for the iteration. Default=0 |\n",
    ">\n",
    "> - The enumerate() function takes a collection (e.g. a tuple) and returns it as an enumerate object.\n",
    "> - The enumerate() function adds a counter as the key of the enumerate object.\n",
    "> - Iterates over both the indices and the elements in the sequence at the same time."
   ]
  },
  {
   "cell_type": "code",
   "execution_count": 7,
   "id": "a7d28049-d011-4efc-a6f6-5e7cb0cde736",
   "metadata": {},
   "outputs": [
    {
     "name": "stdout",
     "output_type": "stream",
     "text": [
      "1 - Ashley\n",
      "2 - Carsten\n",
      "3 - John\n"
     ]
    }
   ],
   "source": [
    "winners = [\"Ashley\", \"Carsten\", \"John\"]\n",
    "\n",
    "for index, winner in enumerate(winners):\n",
    "    print(\"{} - {}\".format(index + 1, winner))"
   ]
  },
  {
   "cell_type": "markdown",
   "id": "94b3d10a-b56a-447e-8a09-736a0507b46e",
   "metadata": {},
   "source": [
    "# .sort()\n",
    "# .sorted() creates a copy of the list"
   ]
  },
  {
   "cell_type": "markdown",
   "id": "0169880e-b625-4210-ac51-ee7fdd0bda5b",
   "metadata": {},
   "source": [
    "## List Comprehensions\n",
    "Let us create new lists based on sequences or ranges"
   ]
  },
  {
   "cell_type": "code",
   "execution_count": 8,
   "id": "f7d8a3eb-c759-469c-bf84-7cc02870ebe3",
   "metadata": {},
   "outputs": [
    {
     "name": "stdout",
     "output_type": "stream",
     "text": [
      "[6, 4, 1, 1]\n"
     ]
    }
   ],
   "source": [
    "languages = [\"Python\", \"Ruby\", \"C\", \"R\"]\n",
    "\n",
    "lenghts = [len(language) for language in languages]\n",
    "print(lenghts)"
   ]
  },
  {
   "cell_type": "code",
   "execution_count": 9,
   "id": "c7db8f0c-2152-401d-8f5f-894b3a00e90c",
   "metadata": {},
   "outputs": [
    {
     "name": "stdout",
     "output_type": "stream",
     "text": [
      "[2, 3, 5, 7, 11, 13, 17, 19, 23, 29, 31, 37, 41, 43, 47, 53, 59, 61, 67, 71, 73, 79, 83, 89, 97]\n"
     ]
    }
   ],
   "source": [
    "prime_numbers = [number for number in range(2, 101) if all(number % i != 0 for i in range(2, int(number**0.5) + 1))]\n",
    "print(prime_numbers)"
   ]
  },
  {
   "cell_type": "code",
   "execution_count": null,
   "id": "f400f66d-aded-4b07-8f03-9462a54d2581",
   "metadata": {},
   "outputs": [],
   "source": []
  },
  {
   "cell_type": "markdown",
   "id": "7087523d-8878-4863-968a-6c6d2e483d96",
   "metadata": {},
   "source": [
    "# Dictionaries\n",
    " - The Data inside Dictionaries take the form of pairs of keys and values\n",
    " - dic = {}\n",
    " - are mutable\n",
    " - Using dics when you plan searching for a specific element\n",
    " - Key Type can be every class that is unmutable: like strings, numbers, Boleans, Tuples\n",
    " - are unordered sets;\n",
    " - have keys that can be a variety of data types, including strings, integers, floats, tuples;.\n",
    " - can access dictionary values by keys;\n",
    " - use square brackets inside curly brackets { [ ] };\n",
    " - use colons between the key and the value(s);\n",
    " - use commas to separate each key group and each value within a key group;\n",
    " - make it quicker and easier for a Python interpreter to find specific elements, as compared to a list."
   ]
  },
  {
   "cell_type": "markdown",
   "id": "2b6077a2-914a-4900-9073-6b3dca10cb1e",
   "metadata": {},
   "source": [
    "# Dictionary Operations and Methods\n",
    "\n",
    "## `.items()` Method\n",
    "### Syntax:\n",
    "`dictionary.items()`\n",
    "> Returns a view object containing key-value pairs of the dictionary as tuples.\n",
    "\n",
    "## `.update()` Method\n",
    "### Syntax:\n",
    "`dictionary.update([iterable])`\n",
    "> | Parameter | Description |\n",
    "> |-----------|-------------|\n",
    "> | iterable  | Optional. A dictionary or an iterable of key/value pairs to update the dictionary with |\n",
    ">\n",
    "> - Updates the dictionary with elements from another dictionary or iterable of key-value pairs.\n",
    "> - If `other` is a dictionary, it updates with its key-value pairs.\n",
    "> - If `other` is an iterable of key-value pairs, it updates with these pairs.\n",
    "\n",
    "## `.keys()` Method\n",
    "### Syntax:\n",
    "`dictionary.keys()`\n",
    "> Returns a view object containing the keys of the dictionary.\n",
    "\n",
    "## `.values()` Method\n",
    "### Syntax:\n",
    "`dictionary.values()`\n",
    "> Returns a view object containing the values of the dictionary.\n",
    "\n",
    "## `.copy()` Method\n",
    "### Syntax:\n",
    "`dictionary.copy()`\n",
    "> Returns a shallow copy of the dictionary.\n"
   ]
  },
  {
   "cell_type": "code",
   "execution_count": 10,
   "id": "38ac2277-442d-4545-9aff-985e238d4e79",
   "metadata": {},
   "outputs": [
    {
     "name": "stdout",
     "output_type": "stream",
     "text": [
      "{'bears': 11, 'lions': 1, 'tigers': 2}\n",
      "{'lions': 1, 'tigers': 2}\n"
     ]
    }
   ],
   "source": [
    "animals = { \"bears\":10, \"lions\":1, \"tigers\":2 }\n",
    "\n",
    "animals[\"bears\"] = 11\n",
    "print(animals)\n",
    "\n",
    "del animals[\"bears\"]\n",
    "print(animals)\n"
   ]
  },
  {
   "cell_type": "code",
   "execution_count": 11,
   "id": "939fff4a-be38-4c9c-9194-dbd78cb67ef4",
   "metadata": {},
   "outputs": [
    {
     "name": "stdout",
     "output_type": "stream",
     "text": [
      "octopuses - tentacles\n",
      "dolphins - fins\n",
      "rhinos - horns\n",
      "dict_values(['tentacles', 'fins', 'horns'])\n",
      "dict_keys(['octopuses', 'dolphins', 'rhinos'])\n"
     ]
    }
   ],
   "source": [
    "cool_beasts = {\"octopuses\":\"tentacles\", \"dolphins\":\"fins\", \"rhinos\":\"horns\"}\n",
    "for beast, feature in cool_beasts.items():\n",
    "    print(\"{} - {}\".format(beast, feature))\n",
    "\n",
    "print(cool_beasts.values())\n",
    "\n",
    "print(cool_beasts.keys())"
   ]
  },
  {
   "cell_type": "code",
   "execution_count": 12,
   "id": "6518855b-c1bf-41bd-9d25-ebbdb2aab65a",
   "metadata": {},
   "outputs": [],
   "source": [
    "def count_letters(text):\n",
    "    result = {}\n",
    "    for letter in text:\n",
    "        if letter not in result:\n",
    "            result[letter] = 0\n",
    "        result[letter] += 1\n",
    "    return result"
   ]
  },
  {
   "cell_type": "code",
   "execution_count": 13,
   "id": "3c22385e-c9b4-4e50-aa5c-c9dddc707403",
   "metadata": {},
   "outputs": [
    {
     "name": "stdout",
     "output_type": "stream",
     "text": [
      "{'H': 1, 'a': 1, 'l': 2, 'o': 1}\n"
     ]
    }
   ],
   "source": [
    "print(count_letters(\"Hallo\"))"
   ]
  },
  {
   "cell_type": "markdown",
   "id": "53b92573-d067-4846-a38b-61cbdab250cc",
   "metadata": {},
   "source": [
    "## Dictionaries versus Lists \n",
    "Dictionaries are similar to lists, but there are a few differences:\n",
    "\n",
    "Both dictionaries and lists:\n",
    "are used to organize elements into collections;\n",
    "\n",
    "are used to initialize a new dictionary or list, use empty brackets;\n",
    "\n",
    "can iterate through the items or elements in the collection; and\n",
    "\n",
    "can use a variety of methods and operations to create and change the collections, like removing and inserting items or elements."
   ]
  },
  {
   "cell_type": "markdown",
   "id": "659b36c8-705f-4e56-af7f-193186303f4a",
   "metadata": {},
   "source": [
    "# Set\n",
    "- Used when yoou want to store a bunch of elements and be certain that they are only present once.\n",
    "- Elements of a set must be immutable\n",
    "- "
   ]
  },
  {
   "cell_type": "code",
   "execution_count": 4,
   "id": "cbe2209c-97e8-4d52-9903-aacc3f4bad0c",
   "metadata": {},
   "outputs": [
    {
     "data": {
      "text/plain": [
       "['red', 'white', 'yellow', 'blue']"
      ]
     },
     "execution_count": 4,
     "metadata": {},
     "output_type": "execute_result"
    }
   ],
   "source": [
    "colors = [\"red\", \"white\", \"blue\"]\n",
    "colors.insert(2, \"yellow\")\n",
    "\n",
    "colors"
   ]
  },
  {
   "cell_type": "markdown",
   "id": "f3a359d3-8703-411f-b23e-c6f6385a60a9",
   "metadata": {},
   "source": [
    "## .add()\n",
    "    .remove()"
   ]
  },
  {
   "cell_type": "code",
   "execution_count": null,
   "id": "8c57bc7c-cf4e-4359-90cb-bc572a83214d",
   "metadata": {},
   "outputs": [],
   "source": []
  }
 ],
 "metadata": {
  "kernelspec": {
   "display_name": "Python 3 (ipykernel)",
   "language": "python",
   "name": "python3"
  },
  "language_info": {
   "codemirror_mode": {
    "name": "ipython",
    "version": 3
   },
   "file_extension": ".py",
   "mimetype": "text/x-python",
   "name": "python",
   "nbconvert_exporter": "python",
   "pygments_lexer": "ipython3",
   "version": "3.10.3"
  }
 },
 "nbformat": 4,
 "nbformat_minor": 5
}
