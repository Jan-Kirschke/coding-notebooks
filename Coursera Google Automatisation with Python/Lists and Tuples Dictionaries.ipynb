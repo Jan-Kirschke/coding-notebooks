{
 "cells": [
  {
   "cell_type": "markdown",
   "id": "24cd5879-5367-4791-acbb-80fbf7ba3908",
   "metadata": {},
   "source": [
    "# Lists\n",
    "\n",
    "Lists are mutable"
   ]
  },
  {
   "cell_type": "code",
   "execution_count": 1,
   "id": "54e923fe-e9f0-4d91-9dfb-060ab85082de",
   "metadata": {},
   "outputs": [],
   "source": [
    "list = [\"value1\", \"value2\"]"
   ]
  },
  {
   "cell_type": "code",
   "execution_count": 2,
   "id": "2ef04bb3-2069-4180-8e0d-24c93206dcb4",
   "metadata": {},
   "outputs": [
    {
     "data": {
      "text/plain": [
       "True"
      ]
     },
     "execution_count": 2,
     "metadata": {},
     "output_type": "execute_result"
    }
   ],
   "source": [
    "x = [\"Now\", \"we\", \"are\", \"cooking!\"]\n",
    "\"are\" in x"
   ]
  },
  {
   "cell_type": "markdown",
   "id": "64e378eb-c93c-43d1-b274-2c31091a221a",
   "metadata": {},
   "source": [
    "# List Methods in Python\n",
    "---\n",
    "\n",
    "## `.append()`\n",
    "\n",
    "### Syntax:\n",
    "*list*__.append__(*elmnt*)\n",
    "\n",
    ">| Parameter | Description |\n",
    ">|-----------|-------------|\n",
    ">| elmnt     | \tRequired. An element of any type (string, number, object etc.) |\n",
    ">\n",
    "> appends an element to the end of the list."
   ]
  },
  {
   "cell_type": "code",
   "execution_count": 3,
   "id": "76fc9247-a476-48be-8a21-cccb216d7814",
   "metadata": {},
   "outputs": [
    {
     "name": "stdout",
     "output_type": "stream",
     "text": [
      "['value1', 'value2']\n",
      "['value1', 'value2', 'value3']\n"
     ]
    }
   ],
   "source": [
    "list = [\"value1\", \"value2\"]\n",
    "print(list)\n",
    "\n",
    "list.append(\"value3\")\n",
    "print(list)"
   ]
  },
  {
   "cell_type": "markdown",
   "id": "275e2036-90b5-4308-812b-07eeeadfabde",
   "metadata": {},
   "source": [
    "## `.insert()`\n",
    "\n",
    "### Syntax:\n",
    "*list*__.insert__(*pos, elmnt*)\n",
    "\n",
    ">| Parameter | Description |\n",
    ">|-----------|-------------|\n",
    ">| pos       | \tRequired. A number specifying in which position to insert the value |\n",
    ">| elmnt     |  Required. An element of any type (string, number, object etc.) |\n",
    ">\n",
    "> inserts the specified value at the specified position.\n",
    ">\n",
    "> If pos > len(list) -> No Error, elmnt will be added to the end"
   ]
  },
  {
   "cell_type": "code",
   "execution_count": 4,
   "id": "d8c56091-7929-4a9e-a5d0-16182eb012e6",
   "metadata": {},
   "outputs": [
    {
     "name": "stdout",
     "output_type": "stream",
     "text": [
      "['kiwi', 'apple', 'banana', 'cherry']\n"
     ]
    }
   ],
   "source": [
    "fruits = ['apple', 'banana', 'cherry']\n",
    "\n",
    "fruits.insert(0, \"kiwi\")  # kiwi will be the first word\n",
    "print(fruits)"
   ]
  },
  {
   "cell_type": "code",
   "execution_count": 5,
   "id": "3150f8a8-9e96-4bf1-ac95-1b28fbef6a0d",
   "metadata": {},
   "outputs": [
    {
     "name": "stdout",
     "output_type": "stream",
     "text": [
      "['kiwi', 'banana', 'cherry']\n"
     ]
    }
   ],
   "source": [
    "fruits.remove('apple') # takes the string value\n",
    "print(fruits)"
   ]
  },
  {
   "cell_type": "code",
   "execution_count": 6,
   "id": "56ef7511-ab3f-4b99-8e3f-68cbce52628f",
   "metadata": {},
   "outputs": [
    {
     "name": "stdout",
     "output_type": "stream",
     "text": [
      "['banana', 'cherry']\n"
     ]
    }
   ],
   "source": [
    "fruits.pop(0)  # Uses index position as parameter\n",
    "print(fruits)"
   ]
  },
  {
   "cell_type": "markdown",
   "id": "9be70f99-799b-4823-b4ef-fcc82df85f18",
   "metadata": {},
   "source": [
    "## `.reverse()` Method\n",
    "\n",
    "### Syntax:\n",
    "*list*__.reverse__()\n",
    "> - switches the order of the elements of the list"
   ]
  },
  {
   "cell_type": "markdown",
   "id": "ebf9b181-a969-4fc9-89f9-0bc3c27e6478",
   "metadata": {},
   "source": [
    "## `.clear()` Method\n",
    "\n",
    "### Syntax:\n",
    "*list*__.clear__()\n",
    "> - method removes all the elements from a list."
   ]
  },
  {
   "cell_type": "markdown",
   "id": "b43502e9-b50c-4041-80e6-92ac4d1fb5d0",
   "metadata": {},
   "source": [
    "## `.copy()`\n",
    "\n",
    "### Syntax:\n",
    "*list*__.reverse__()\n",
    "> - returns a copy of the specified list."
   ]
  },
  {
   "cell_type": "markdown",
   "id": "e0175234-0d23-4846-a352-5b0c401241f7",
   "metadata": {},
   "source": [
    "## `.extend()`\n",
    "\n",
    "### Syntax:\n",
    "*list*__.reverse__(*iterable*)\n",
    ">| Parameter | Description |\n",
    ">|-----------|-------------|\n",
    ">| iterable  | \tRequired.Any iterable (list, set, tuple, etc.) |\n",
    ">\n",
    "> - method adds the specified list elements (or any iterable) to the end of the current list."
   ]
  },
  {
   "cell_type": "markdown",
   "id": "162e10d6-7bc5-4dda-a00f-deac1e0c0bc0",
   "metadata": {},
   "source": [
    "# Tuples\n",
    "\n",
    "- tuple = (\"value1\", \"value2\", \"value3\")\n",
    "- The position of the element inside Tuple have meaning.\n",
    "- Tuples are immutable\n",
    "- Storing the elements of a tuple in separate variables is called unpacking\n",
    "- Tuple use cases\n",
    "    - Protecting data: Because tuples are immutable, they can be used in situations where you want to ensure the data you have cannot be changed. This can be particularly helpful\n",
    "      when dealing with sensitive or important information that should remain constant throughout the execution of a program.\n",
    "    - Hashable keys: Because they're immutable, tuples can be used as keys on dictionaries, which can be useful for complex keys.\n",
    "    - Efficiency: Tuples are generally more memory-efficient than lists, making them advantageous when dealing with large datasets."
   ]
  },
  {
   "cell_type": "markdown",
   "id": "23ae6040-e47b-4d16-a57e-a1e8d3aeddff",
   "metadata": {},
   "source": [
    "## `enumerate()` Funktion\n",
    "\n",
    "### Syntax:\n",
    "__eunumerate__(*iterable, start*)\n",
    "\n",
    ">| Parameter | Description |\n",
    ">|-----------|-------------|\n",
    ">| iterable  | \tRequired. An iterable object |\n",
    ">| elmnt     |  Optional. Number defining the startpoint for the iteration. Default=0 |\n",
    ">\n",
    "> - The enumerate() function takes a collection (e.g. a tuple) and returns it as an enumerate object.\n",
    "> - The enumerate() function adds a counter as the key of the enumerate object.\n",
    "> - Iterates over both the indices and the elements in the sequence at the same time."
   ]
  },
  {
   "cell_type": "code",
   "execution_count": 7,
   "id": "a7d28049-d011-4efc-a6f6-5e7cb0cde736",
   "metadata": {},
   "outputs": [
    {
     "name": "stdout",
     "output_type": "stream",
     "text": [
      "1 - Ashley\n",
      "2 - Carsten\n",
      "3 - John\n"
     ]
    }
   ],
   "source": [
    "winners = [\"Ashley\", \"Carsten\", \"John\"]\n",
    "\n",
    "for index, winner in enumerate(winners):\n",
    "    print(\"{} - {}\".format(index + 1, winner))"
   ]
  },
  {
   "cell_type": "markdown",
   "id": "0169880e-b625-4210-ac51-ee7fdd0bda5b",
   "metadata": {},
   "source": [
    "## List Comprehensions\n",
    "Let us create new lists based on sequences or ranges"
   ]
  },
  {
   "cell_type": "code",
   "execution_count": 8,
   "id": "f7d8a3eb-c759-469c-bf84-7cc02870ebe3",
   "metadata": {},
   "outputs": [
    {
     "name": "stdout",
     "output_type": "stream",
     "text": [
      "[6, 4, 1, 1]\n"
     ]
    }
   ],
   "source": [
    "languages = [\"Python\", \"Ruby\", \"C\", \"R\"]\n",
    "\n",
    "lenghts = [len(language) for language in languages]\n",
    "print(lenghts)"
   ]
  },
  {
   "cell_type": "code",
   "execution_count": 9,
   "id": "c7db8f0c-2152-401d-8f5f-894b3a00e90c",
   "metadata": {},
   "outputs": [
    {
     "name": "stdout",
     "output_type": "stream",
     "text": [
      "[2, 3, 5, 7, 11, 13, 17, 19, 23, 29, 31, 37, 41, 43, 47, 53, 59, 61, 67, 71, 73, 79, 83, 89, 97]\n"
     ]
    }
   ],
   "source": [
    "prime_numbers = [number for number in range(2, 101) if all(number % i != 0 for i in range(2, int(number**0.5) + 1))]\n",
    "print(prime_numbers)"
   ]
  },
  {
   "cell_type": "code",
   "execution_count": null,
   "id": "f400f66d-aded-4b07-8f03-9462a54d2581",
   "metadata": {},
   "outputs": [],
   "source": []
  }
 ],
 "metadata": {
  "kernelspec": {
   "display_name": "Python 3 (ipykernel)",
   "language": "python",
   "name": "python3"
  },
  "language_info": {
   "codemirror_mode": {
    "name": "ipython",
    "version": 3
   },
   "file_extension": ".py",
   "mimetype": "text/x-python",
   "name": "python",
   "nbconvert_exporter": "python",
   "pygments_lexer": "ipython3",
   "version": "3.10.3"
  }
 },
 "nbformat": 4,
 "nbformat_minor": 5
}
