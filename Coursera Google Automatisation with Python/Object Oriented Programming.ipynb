{
 "cells": [
  {
   "cell_type": "markdown",
   "id": "81b1532a-8361-409f-a28a-75ed075670a5",
   "metadata": {},
   "source": [
    "# OOP (Object Oriented Programming)\n",
    "- insance Varaibles"
   ]
  },
  {
   "cell_type": "code",
   "execution_count": null,
   "id": "a297e18b-3ec4-4d88-b67d-9783d45e1341",
   "metadata": {},
   "outputs": [],
   "source": [
    "class ClassName:\n",
    "    \"\"\"Documentation for the class.\"\"\"\n",
    "    def method_name(self, other_parameters):\n",
    "        \"\"\"Documentation for the method.\"\"\"\n",
    "        body_of_method\n",
    "        \n",
    "def function_name(parameters):\n",
    "    \"\"\"Documentation for the function.\"\"\"\n",
    "    body_of_function\n"
   ]
  },
  {
   "cell_type": "code",
   "execution_count": 2,
   "id": "5ed145ec-f427-4d2f-86b4-90afc476875d",
   "metadata": {},
   "outputs": [
    {
     "name": "stdout",
     "output_type": "stream",
     "text": [
      "\n",
      "    docstrings use .__doc__ to show\n",
      "    docstrings use .__doc__ to show\n",
      "    docstrings use .__doc__ to show\n",
      "    \n"
     ]
    }
   ],
   "source": [
    "def funktion1():\n",
    "    \"\"\"\n",
    "    docstrings use .__doc__ to show\n",
    "    docstrings use .__doc__ to show\n",
    "    docstrings use .__doc__ to show\n",
    "    \"\"\"\n",
    "    pass\n",
    "\n",
    "print(funktion1.__doc__)"
   ]
  }
 ],
 "metadata": {
  "kernelspec": {
   "display_name": "Python 3 (ipykernel)",
   "language": "python",
   "name": "python3"
  },
  "language_info": {
   "codemirror_mode": {
    "name": "ipython",
    "version": 3
   },
   "file_extension": ".py",
   "mimetype": "text/x-python",
   "name": "python",
   "nbconvert_exporter": "python",
   "pygments_lexer": "ipython3",
   "version": "3.10.3"
  }
 },
 "nbformat": 4,
 "nbformat_minor": 5
}
