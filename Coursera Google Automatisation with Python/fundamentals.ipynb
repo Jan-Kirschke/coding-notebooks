{
 "cells": [
  {
   "cell_type": "markdown",
   "id": "e6ea1acb-e9e9-4195-8a18-6cf7c4fd5d83",
   "metadata": {},
   "source": [
    "# Method\n",
    "\n",
    "## are funktions that operate on the attributes of a specific instance of a class"
   ]
  },
  {
   "cell_type": "markdown",
   "id": "20603b74-a0d2-4b75-95f0-920876a7a486",
   "metadata": {},
   "source": [
    "## Similarity between Lists and Strings\n",
    "In Python, lists and strings are quite similar. They’re both examples of sequences of data. Sequences have similar properties, like (1) being able to iterate over them using for loops; (2) support indexing; (3) using the len function to find the length of the sequence; (4) using the plus operator + in order to concatenate; and (5) using the in keyword to check if the sequence contains a value. "
   ]
  },
  {
   "cell_type": "markdown",
   "id": "b0860e5a-b439-4fab-bdfa-62ed1eb9eed6",
   "metadata": {},
   "source": [
    "## Difference Parameter and Argument\n",
    "Parameters:\n",
    "- Parameters are variables listed in the function definition.\n",
    "- They are placeholders for the values that a function expects to receive.\n",
    "- Parameters are declared in the parentheses of the function definition.\n",
    "\n",
    "Arguments:\n",
    "- Arguments are the actual values passed to a function when it is called.\n",
    "- They are the concrete data that are assigned to the parameters.\n",
    "- Arguments are specified in the parentheses when calling the function."
   ]
  },
  {
   "cell_type": "markdown",
   "id": "30f21ea2-b001-4028-8d83-6a32fb1e0256",
   "metadata": {},
   "source": [
    "| Feature by Data Structure | Dictionary | Set | List | String | Tuple |\n",
    "|---------------------------|------------|-----|------|--------|-------|\n",
    "| Definition | Stores key:value pairs | An unordered collection of unique elements | A sequential, mutable collection of any data type | A sequential, immutable collection of textual data | A sequential, immutable collection of any data type |\n",
    "| Representation | `{ 'a':[42], 'b':[23,6,1] }` | `{'^2', 'mc', ' equal', 'E'}` | `[ 'a','b', 3, 4 ]` | `\"call me ishmael\"` | `( 'commander','lambda')` |\n",
    "| How to create? | `x = {}`, `x = dict()` | `x = set()` | `x = []`, `x = list()` | `x = \"\"`, `x = str()` | `x = ('a','b',)`, `x = tuple()` |\n",
    "| Is structure mutable and allow duplicate elements? | Immutable keys but mutable and duplicate values | Mutable but unique elements only | Mutable and allows duplicate elements | Immutable but allows duplicate elements | Immutable but allows duplicate elements |\n",
    "| Is the structure iterable? | No, it is unordered and random | No, it is unordered and unique | Yes, and with numeric index assignment | Yes, but with a sequence of textual data | Yes, and with numeric index assignment |"
   ]
  },
  {
   "cell_type": "markdown",
   "id": "4fc4faae-4cd4-446f-916f-096c34cc4016",
   "metadata": {},
   "source": [
    "## Instance Methods:\n",
    " - Most common type of methods in Python\n",
    " - Defined within a class\n",
    " - Can access and modify instance-specific data\n",
    " - Use 'self' parameter to refer to the instance\n",
    " - Can access instance variables\n",
    "\n",
    "\n",
    "## Class Methods:\n",
    " - Called on the class itself, not an instance\n",
    " - Marked with @classmethod decorator\n",
    " - Use 'cls' parameter to refer to the class\n",
    " - Often used to create or modify class-level data structures\n",
    " - Can access class variables\n",
    "\n",
    "\n",
    "## Static Methods:\n",
    " - Do not take 'self' or 'cls' parameters\n",
    " - Behave like regular functions\n",
    " - Can be called directly from the class\n",
    " - Don't need access to instance or class-specific data\n",
    " - Used for utility functions related to the class\n",
    "\n",
    "\n",
    "## Choosing a Method Type:\n",
    " - Instance methods: for individual object data\n",
    " - Class methods: for shared data across instances\n",
    " - Static methods: for related tasks without object or class data access"
   ]
  },
  {
   "cell_type": "markdown",
   "id": "bceae3bd-9c14-4c83-95d5-b008307d9b3a",
   "metadata": {},
   "source": [
    "## Dunder Method's D(ubble)UNDER\n",
    "- magic methods / dunder Methods"
   ]
  },
  {
   "cell_type": "code",
   "execution_count": 2,
   "id": "a343bf24-2989-4c6e-bb7f-1e2c0c206bfa",
   "metadata": {},
   "outputs": [
    {
     "name": "stdout",
     "output_type": "stream",
     "text": [
      "1000\n",
      "True\n",
      "False\n",
      "False\n",
      "True\n"
     ]
    }
   ],
   "source": [
    "class MeineBuch:\n",
    "    def __init__(self, titel, seiten):\n",
    "        self.titel = titel\n",
    "        self.seiten = seiten\n",
    "\n",
    "    def __len__(self):\n",
    "        return self.seiten\n",
    "\n",
    "    def __contains__(self, wort):\n",
    "        return wort.lower() in self.titel.lower()\n",
    "\n",
    "    def __eq__(self, anderes_buch):\n",
    "        if not isinstance(anderes_buch, MeineBuch):\n",
    "            return False\n",
    "        return self.titel == anderes_buch.titel and self.seiten == anderes_buch.seiten\n",
    "\n",
    "# Verwendung\n",
    "buch1 = MeineBuch(\"Der Herr der Ringe\", 1000)\n",
    "buch2 = MeineBuch(\"Der Hobbit\", 300)\n",
    "buch3 = MeineBuch(\"Der Herr der Ringe\", 1000)\n",
    "\n",
    "print(len(buch1))  # Gibt 1000 aus\n",
    "print(\"Herr\" in buch1)  # Gibt True aus\n",
    "print(\"Zauberer\" in buch2)  # Gibt False aus\n",
    "print(buch1 == buch2)  # Gibt False aus\n",
    "print(buch1 == buch3)  # Gibt True aus"
   ]
  }
 ],
 "metadata": {
  "kernelspec": {
   "display_name": "Python 3 (ipykernel)",
   "language": "python",
   "name": "python3"
  },
  "language_info": {
   "codemirror_mode": {
    "name": "ipython",
    "version": 3
   },
   "file_extension": ".py",
   "mimetype": "text/x-python",
   "name": "python",
   "nbconvert_exporter": "python",
   "pygments_lexer": "ipython3",
   "version": "3.10.3"
  }
 },
 "nbformat": 4,
 "nbformat_minor": 5
}
