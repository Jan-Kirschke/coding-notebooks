{
 "cells": [
  {
   "cell_type": "markdown",
   "id": "e6ea1acb-e9e9-4195-8a18-6cf7c4fd5d83",
   "metadata": {},
   "source": [
    "# Method\n",
    "\n",
    "## is a function associated with a specific class"
   ]
  },
  {
   "cell_type": "markdown",
   "id": "20603b74-a0d2-4b75-95f0-920876a7a486",
   "metadata": {},
   "source": [
    "## Similarity between Lists and Strings\n",
    "In Python, lists and strings are quite similar. They’re both examples of sequences of data. Sequences have similar properties, like (1) being able to iterate over them using for loops; (2) support indexing; (3) using the len function to find the length of the sequence; (4) using the plus operator + in order to concatenate; and (5) using the in keyword to check if the sequence contains a value. "
   ]
  },
  {
   "cell_type": "markdown",
   "id": "b0860e5a-b439-4fab-bdfa-62ed1eb9eed6",
   "metadata": {},
   "source": [
    "## Difference Parameter and Argument\n",
    "Parameters:\n",
    "- Parameters are variables listed in the function definition.\n",
    "- They are placeholders for the values that a function expects to receive.\n",
    "- Parameters are declared in the parentheses of the function definition.\n",
    "\n",
    "Arguments:\n",
    "- Arguments are the actual values passed to a function when it is called.\n",
    "- They are the concrete data that are assigned to the parameters.\n",
    "- Arguments are specified in the parentheses when calling the function."
   ]
  },
  {
   "cell_type": "code",
   "execution_count": null,
   "id": "5c21f256-5d8b-4edb-a4de-bbab551c7d6f",
   "metadata": {},
   "outputs": [],
   "source": []
  }
 ],
 "metadata": {
  "kernelspec": {
   "display_name": "Python 3 (ipykernel)",
   "language": "python",
   "name": "python3"
  },
  "language_info": {
   "codemirror_mode": {
    "name": "ipython",
    "version": 3
   },
   "file_extension": ".py",
   "mimetype": "text/x-python",
   "name": "python",
   "nbconvert_exporter": "python",
   "pygments_lexer": "ipython3",
   "version": "3.10.3"
  }
 },
 "nbformat": 4,
 "nbformat_minor": 5
}
