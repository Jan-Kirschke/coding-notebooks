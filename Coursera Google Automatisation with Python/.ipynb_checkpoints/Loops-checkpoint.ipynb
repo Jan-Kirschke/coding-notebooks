{
 "cells": [
  {
   "cell_type": "markdown",
   "id": "b02c2659-b052-4318-9adb-8133872c6fba",
   "metadata": {},
   "source": [
    "# Loops"
   ]
  },
  {
   "cell_type": "markdown",
   "id": "fa4d7e31-fb92-428d-9448-e206d097d9d6",
   "metadata": {},
   "source": [
    "## 1.3 While loop with slicing"
   ]
  },
  {
   "cell_type": "code",
   "execution_count": 1,
   "id": "8ecc5376-9040-4659-a27a-150e26d7fd06",
   "metadata": {},
   "outputs": [
    {
     "name": "stdout",
     "output_type": "stream",
     "text": [
      "H\n",
      "a\n",
      "l\n",
      "l\n",
      "o\n"
     ]
    }
   ],
   "source": [
    "string = \"Hallo\"\n",
    "index = 0\n",
    "\n",
    "while index < len(string):\n",
    "    print(string[index:index+1])\n",
    "    index += 1"
   ]
  },
  {
   "cell_type": "code",
   "execution_count": 2,
   "id": "3e1ddaee-49f0-4a02-a5e7-0daa94a646e6",
   "metadata": {},
   "outputs": [
    {
     "name": "stdout",
     "output_type": "stream",
     "text": [
      "[1, 4, 9, 16, 25]\n"
     ]
    }
   ],
   "source": [
    "numbers = [1, 2, 3, 4, 5]\n",
    "\n",
    "squared_numbers = [x**2 for x in numbers]\n",
    "print(squared_numbers)"
   ]
  },
  {
   "cell_type": "markdown",
   "id": "7a176aba-81c8-4b74-a84a-cdb9da01f358",
   "metadata": {},
   "source": [
    "## map() Function\n",
    "#### map(function, iterables) --> map object\n",
    "\n",
    "#### The map() function applies the specified function to every item of the passed iterable, yields the results, and returns an iterator."
   ]
  },
  {
   "cell_type": "code",
   "execution_count": 3,
   "id": "9de276f2-a61b-423d-b7f0-c56718fee46d",
   "metadata": {},
   "outputs": [
    {
     "data": {
      "text/plain": [
       "4"
      ]
     },
     "execution_count": 3,
     "metadata": {},
     "output_type": "execute_result"
    }
   ],
   "source": [
    "def square(x):\n",
    "    return x*x\n",
    "\n",
    "numbers = [1, 2, 3, 4, 5]\n",
    "\n",
    "sqrs_of_numbers = map(square, numbers)\n",
    "next(sqrs_of_numbers)\n",
    "next(sqrs_of_numbers)\n",
    "    \n"
   ]
  },
  {
   "cell_type": "markdown",
   "id": "2fa76e8b-14ce-4111-8495-6c333d782069",
   "metadata": {},
   "source": [
    "## zip() Method\r",
    "#### \n",
    "The zip() method takes one or more iterables (such as list, tuple, string, etc.) and constructs the iterator of tuples where each tuple  contains elements from each iterable\n",
    "\n",
    "Syntax: \n",
    "zip(*iterables\n",
    ")\r\n",
    "Parameters:\r\n",
    "iterables: Can be built-in iterables or user defined iterables.\r\n",
    "\r\n",
    "Return type:\r\n",
    "Returns zip object that works as an iterator.."
   ]
  },
  {
   "cell_type": "code",
   "execution_count": 4,
   "id": "3c9986b7-0bf3-45dc-8553-0a20646be4e8",
   "metadata": {},
   "outputs": [
    {
     "name": "stdout",
     "output_type": "stream",
     "text": [
      "<zip object at 0x000001C033930540>\n",
      "[(19, 'John', 'Berlin'), (20, 'Peter', 'Köln'), (25, 'Jan', 'Frankfurt'), (30, 'Max', 'Overath')]\n"
     ]
    }
   ],
   "source": [
    "age = [19, 20, 25, 30]\n",
    "names = [\"John\", \"Peter\", \"Jan\", \"Max\"]\n",
    "location = [\"Berlin\", \"Köln\", \"Frankfurt\", \"Overath\"]\n",
    "\n",
    "register = zip(age, names, location)\n",
    "print(register)\n",
    "print(list(register))"
   ]
  },
  {
   "cell_type": "code",
   "execution_count": 5,
   "id": "ad7430da-58fe-47cd-a365-4e225f68fa13",
   "metadata": {},
   "outputs": [
    {
     "name": "stdout",
     "output_type": "stream",
     "text": [
      "{19: 'John', 20: 'Peter', 25: 'Jan', 30: 'Max'}\n"
     ]
    }
   ],
   "source": [
    "zipped = zip(age, names)\n",
    "zipped_dict = dict(zipped)\n",
    "\n",
    "print(zipped_dict)"
   ]
  },
  {
   "cell_type": "markdown",
   "id": "fb2fb9d0-3532-4660-99d1-4b7b8e76a139",
   "metadata": {},
   "source": [
    "## Stride for Slicing"
   ]
  },
  {
   "cell_type": "code",
   "execution_count": 6,
   "id": "a89b04ab-5d6f-4212-88c6-62178a7fe403",
   "metadata": {},
   "outputs": [
    {
     "name": "stdout",
     "output_type": "stream",
     "text": [
      "Geiler Arsch\n"
     ]
    }
   ],
   "source": [
    "string1 = \"G3e2idlgehrj kAkrrsucdhh\"\n",
    "string3 = \"\"\n",
    "\n",
    "for i in string1[0::2]:\n",
    "    string3 += i\n",
    "\n",
    "print(string3)"
   ]
  },
  {
   "cell_type": "markdown",
   "id": "313af00a-f65d-44e4-8b84-ab9b80358151",
   "metadata": {},
   "source": [
    "## .join Method\n",
    "__Definition and Usage__\n",
    "The join() method takes all items in an iterable and joins them into one string.\n",
    "\n",
    "A string must be specified as the separator.\n",
    "\n",
    "Syntax\n",
    "string.join(iterable)"
   ]
  },
  {
   "cell_type": "code",
   "execution_count": 8,
   "id": "c29c3a48-06f8-4305-9693-8c28c23a7bee",
   "metadata": {},
   "outputs": [
    {
     "name": "stdout",
     "output_type": "stream",
     "text": [
      "Hello World\n"
     ]
    }
   ],
   "source": [
    "greetings = [\"Hello\", \"World\"]\n",
    "print(\" \".join(greetings))\n"
   ]
  },
  {
   "cell_type": "code",
   "execution_count": 11,
   "id": "dfa0835e-f35f-4f89-bf50-b0ecb6dcaf95",
   "metadata": {},
   "outputs": [
    {
     "data": {
      "text/plain": [
       "'(+49) 174-9631948'"
      ]
     },
     "execution_count": 11,
     "metadata": {},
     "output_type": "execute_result"
    }
   ],
   "source": [
    "def format_phone_number(phonenumber):\n",
    "    ländercode = \"(\" + phonenumber[:3] + \")\"\n",
    "    vorwahl = phonenumber[3:6]\n",
    "    durchwahl = phonenumber[6:]\n",
    "    return ländercode + \" \" + vorwahl + \"-\" + durchwahl\n",
    "\n",
    "format_phone_number(\"+491749631948\")\n",
    "\n",
    "    \n",
    "    "
   ]
  },
  {
   "cell_type": "markdown",
   "id": "68429c88-3207-4fc0-a587-0850d52fcb98",
   "metadata": {},
   "source": [
    "## recursion | recursive functions\n",
    "#### Recursion is a process where a function calls itself one or more times with modified values to accomplish a task."
   ]
  },
  {
   "cell_type": "markdown",
   "id": "3f5fe531-21b6-4355-8b19-2752c5745402",
   "metadata": {},
   "source": [
    "## factorial | Fakultät !"
   ]
  },
  {
   "cell_type": "code",
   "execution_count": 1,
   "id": "06d63f49-a52b-4728-8979-b3dcb732ce9e",
   "metadata": {},
   "outputs": [
    {
     "data": {
      "text/plain": [
       "120"
      ]
     },
     "execution_count": 1,
     "metadata": {},
     "output_type": "execute_result"
    }
   ],
   "source": [
    "def factorial(n):\n",
    "    if n < 2:\n",
    "        return 1\n",
    "    return n * factorial(n - 1)\n",
    "\n",
    "factorial(5)"
   ]
  },
  {
   "cell_type": "code",
   "execution_count": 4,
   "id": "d1259159-4d9a-4f0f-bfcd-7cab21d440b5",
   "metadata": {},
   "outputs": [
    {
     "data": {
      "text/plain": [
       "6"
      ]
     },
     "execution_count": 4,
     "metadata": {},
     "output_type": "execute_result"
    }
   ],
   "source": [
    "def sum_positive_numbers(n):\n",
    "    if n < 1:\n",
    "        return n\n",
    "    return n + sum_positive_numbers(n-1)\n",
    "\n",
    "sum_positive_numbers(3)"
   ]
  },
  {
   "cell_type": "code",
   "execution_count": null,
   "id": "98343944-e240-42aa-9caf-39a8e1a0a251",
   "metadata": {},
   "outputs": [],
   "source": [
    "def recursive_function(parameters):\n",
    "    if base_case_condition(parameters):\n",
    "        return base_case_value\n",
    "    recursive_function(modified_parameters)"
   ]
  },
  {
   "cell_type": "code",
   "execution_count": null,
   "id": "016eb643-4a18-4f8a-9304-adcfac191ba3",
   "metadata": {},
   "outputs": [],
   "source": []
  },
  {
   "cell_type": "markdown",
   "id": "2adc551c-44f5-429e-ba50-16db4876c330",
   "metadata": {},
   "source": [
    "## function\n",
    "#### params:\n",
    "\n",
    "* 1\n",
    "* 1\n"
   ]
  },
  {
   "cell_type": "code",
   "execution_count": 2,
   "id": "df771c36-a904-4243-a1c5-3c18ab69fc11",
   "metadata": {},
   "outputs": [],
   "source": [
    "def function():\n",
    "    print()\n"
   ]
  },
  {
   "cell_type": "code",
   "execution_count": null,
   "id": "48668dc6-75c1-47b6-a329-518bcde04708",
   "metadata": {},
   "outputs": [],
   "source": []
  },
  {
   "cell_type": "code",
   "execution_count": null,
   "id": "ef11b58a-5926-4d30-8d15-fe85d0797eb6",
   "metadata": {},
   "outputs": [],
   "source": []
  },
  {
   "cell_type": "code",
   "execution_count": null,
   "id": "e5afc12d-d54b-4120-9205-c0c6ab19f2b7",
   "metadata": {},
   "outputs": [],
   "source": []
  }
 ],
 "metadata": {
  "kernelspec": {
   "display_name": "Python 3 (ipykernel)",
   "language": "python",
   "name": "python3"
  },
  "language_info": {
   "codemirror_mode": {
    "name": "ipython",
    "version": 3
   },
   "file_extension": ".py",
   "mimetype": "text/x-python",
   "name": "python",
   "nbconvert_exporter": "python",
   "pygments_lexer": "ipython3",
   "version": "3.10.3"
  }
 },
 "nbformat": 4,
 "nbformat_minor": 5
}
