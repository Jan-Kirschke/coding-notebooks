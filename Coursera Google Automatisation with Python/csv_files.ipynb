{
 "cells": [
  {
   "cell_type": "markdown",
   "id": "060a9f60-8acf-4be3-bf13-73156d4c1dd4",
   "metadata": {},
   "source": [
    "## Reading CSV Files\n",
    "\n",
    "Comma-Separated Values"
   ]
  },
  {
   "cell_type": "code",
   "execution_count": 15,
   "id": "3aa19d97-d54e-43bb-bcff-6cfda23d8ea5",
   "metadata": {},
   "outputs": [
    {
     "name": "stdout",
     "output_type": "stream",
     "text": [
      "Name: Name, Telefonnumber: Telefon, Position: Rolle\n",
      "Name: Max Mustermann, Telefonnumber: +49 123 4567890, Position: Manager\n",
      "Name: Anna Schmidt, Telefonnumber: +49 234 5678901, Position: Entwickler\n",
      "Name: Laura Weber, Telefonnumber: +49 345 6789012, Position: Designer\n",
      "Name: Tom MÃ¼ller, Telefonnumber: +49 456 7890123, Position: Marketing\n"
     ]
    }
   ],
   "source": [
    "import os\n",
    "import csv\n",
    "\n",
    "cwd = os.getcwd()\n",
    "example_data_path = os.path.join(cwd, \"..\", \"..\", \"..\", \"data\", \"example_data\")\n",
    "\n",
    "csv_path = os.path.join(example_data_path, \"example_csv.txt\")\n",
    "\n",
    "if not os.path.exists(csv_path):\n",
    "    print(\"file not found\")\n",
    "    \n",
    "f = open(csv_path)\n",
    "csv_f = csv.reader(f)\n",
    "\n",
    "for row in csv_f:\n",
    "    name, telefon, role = row\n",
    "    print(\"Name: {}, Telefonnumber: {}, Position: {}\".format(name, telefon, role))\n",
    "\n",
    "f.close()"
   ]
  },
  {
   "cell_type": "markdown",
   "id": "6f1d89ae-1add-4ae0-a574-de01f47074be",
   "metadata": {},
   "source": [
    "## Writing CSV Files"
   ]
  },
  {
   "cell_type": "code",
   "execution_count": 22,
   "id": "878c1ef0-62b5-4566-851c-12a200ef23b4",
   "metadata": {},
   "outputs": [],
   "source": [
    "import csv\n",
    "\n",
    "hosts = [[\"workstation.local\", \"192.168.25.46\"],[\"webserver.cloud\", \"10.2.5.6\"]]\n",
    "\n",
    "with open(\"hosts.csv\", \"w\") as hosts_csv:\n",
    "    writer = csv.writer(hosts_csv)\n",
    "    writer.writerows(hosts)"
   ]
  },
  {
   "cell_type": "code",
   "execution_count": null,
   "id": "f6f16e7c-463d-4c9f-a2e6-cc499844f420",
   "metadata": {},
   "outputs": [],
   "source": []
  },
  {
   "cell_type": "code",
   "execution_count": null,
   "id": "910df51f-d030-4799-a5e3-c07f92309177",
   "metadata": {},
   "outputs": [],
   "source": []
  }
 ],
 "metadata": {
  "kernelspec": {
   "display_name": "Python 3 (ipykernel)",
   "language": "python",
   "name": "python3"
  },
  "language_info": {
   "codemirror_mode": {
    "name": "ipython",
    "version": 3
   },
   "file_extension": ".py",
   "mimetype": "text/x-python",
   "name": "python",
   "nbconvert_exporter": "python",
   "pygments_lexer": "ipython3",
   "version": "3.10.3"
  }
 },
 "nbformat": 4,
 "nbformat_minor": 5
}
