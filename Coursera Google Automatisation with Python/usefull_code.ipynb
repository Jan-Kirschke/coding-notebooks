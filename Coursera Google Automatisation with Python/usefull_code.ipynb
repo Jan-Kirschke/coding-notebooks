{
 "cells": [
  {
   "cell_type": "markdown",
   "id": "0e5cc675-f14f-4f3e-8d53-bbf3a26e61ad",
   "metadata": {},
   "source": [
    "## Virtual Environment"
   ]
  },
  {
   "cell_type": "markdown",
   "id": "4e1655ea-9a5b-4130-886d-e7bdf40a065b",
   "metadata": {},
   "source": [
    "## create the environment\n",
    "\n",
    "$ python -m venv myenv\n",
    "\n",
    "## activate:\n",
    "$ myenv\\Scripts\\activate  # Windows\n",
    "\n",
    "$ myenv/bin/activate  # Mac / Linux\n",
    "\n",
    "## requirement files\n",
    "\n",
    "$ pip freeze > requirements.txt  # modules to textfile\n",
    "\n",
    "$ pip install -r requirements.txt  # from text to modules \n",
    "\n"
   ]
  },
  {
   "cell_type": "code",
   "execution_count": null,
   "id": "4aed48b7-fcad-4489-95b6-7b93aa48227f",
   "metadata": {},
   "outputs": [],
   "source": []
  }
 ],
 "metadata": {
  "kernelspec": {
   "display_name": "Python 3 (ipykernel)",
   "language": "python",
   "name": "python3"
  },
  "language_info": {
   "codemirror_mode": {
    "name": "ipython",
    "version": 3
   },
   "file_extension": ".py",
   "mimetype": "text/x-python",
   "name": "python",
   "nbconvert_exporter": "python",
   "pygments_lexer": "ipython3",
   "version": "3.10.3"
  }
 },
 "nbformat": 4,
 "nbformat_minor": 5
}
