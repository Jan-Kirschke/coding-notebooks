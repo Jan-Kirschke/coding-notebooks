{
 "cells": [
  {
   "cell_type": "markdown",
   "id": "579a993d-1afd-4138-a5c0-6be37f34376a",
   "metadata": {},
   "source": [
    "# Strings\n",
    "\n",
    "strings are immutable\n",
    "\n",
    "substrings are sliced parts of a string"
   ]
  },
  {
   "cell_type": "markdown",
   "id": "87fe9338-b1ba-4131-8293-3e3fb4642d25",
   "metadata": {},
   "source": [
    "# String Methods in Python\n",
    "---\n",
    "\n",
    "## `.index()`\n",
    "\n",
    ">| Parameter | Description |\n",
    ">|-----------|-------------|\n",
    ">| `sub`     | Required. The substring to search for |\n",
    ">| `start`   | Optional. The position to start the search. Default is 0 |\n",
    ">| `end`     | Optional. The position to end the search. Default is the end of the string |\n",
    ">\n",
    "> Returns the index of the first occurrence of the specified substring\n",
    "\n",
    "## `.upper()`\n",
    "\n",
    "> Converts all characters to uppercase\n",
    "\n",
    "## `.lower()`\n",
    "\n",
    "> Converts all characters to lowercase\n",
    "\n",
    "## `.strip()` | `.lstrip()` | `.rstrip()`\n",
    "\n",
    ">| Parameter | Description |\n",
    ">|-----------|-------------|\n",
    ">| `chars`   | Optional. A string specifying the set of characters to be removed. If omitted, all leading and trailing whitespaces are removed |\n",
    ">\n",
    "> Removes specified characters (or whitespace) from the beginning and/or end of the string\n",
    "\n",
    "## `.count()`\n",
    "\n",
    ">| Parameter | Description |\n",
    ">|-----------|-------------|\n",
    ">| `value`   | Required. The string to search for |\n",
    ">| `start`   | Optional. The position to start the search. Default is 0 |\n",
    ">| `end`     | Optional. The position to end the search. Default is the end of the string |\n",
    ">\n",
    "> Returns the number of times a specified value occurs in a string\n",
    "\n",
    "## `.endswith()`\n",
    "\n",
    ">| Parameter | Description |\n",
    ">|-----------|-------------|\n",
    ">| `suffix`  | Required. The value to check if the string ends with |\n",
    ">| `start`   | Optional. The position to start the search. Default is 0 |\n",
    ">| `end`     | Optional. The position to end the search. Default is the end of the string |\n",
    ">\n",
    "> Returns True if the string ends with the specified value, otherwise False\n",
    "\n",
    "## `.isnumeric()`\n",
    "\n",
    "> Returns True if all characters in the string are numeric (Unicode supported, but only positive integers)\n",
    "\n",
    "## `.split()`\n",
    "\n",
    ">| Parameter   | Description |\n",
    ">|-------------|-------------|\n",
    ">| `separator` | Optional. Specifies the separator to use when splitting the string. By default, any whitespace is a separator |\n",
    ">| `maxsplit`  | Optional. Specifies how many splits to do. Default is -1, which means \"all occurrences\" |\n",
    ">\n",
    "> Splits the string at the specified separator and returns a list\n",
    "\n",
    "## `.join()`\n",
    "\n",
    "> take every item in an iterable and joins them into one string "
   ]
  },
  {
   "cell_type": "code",
   "execution_count": 8,
   "id": "1c765c2b-4aaa-4a3f-84bb-39b8b164649e",
   "metadata": {},
   "outputs": [
    {
     "name": "stdout",
     "output_type": "stream",
     "text": [
      "13 15.469999999999999\n",
      "price: 13.00€. Price with taxes: 15.47€.\n"
     ]
    }
   ],
   "source": [
    "price =  13\n",
    "price_with_tax = price * 1.19\n",
    "print(price, price_with_tax)\n",
    "\n",
    "print(\"price: {:.2f}€. Price with taxes: {:.2f}€.\".format(price, price_with_tax))"
   ]
  },
  {
   "cell_type": "markdown",
   "id": "10484904-2bea-48c7-a903-93695bbb1273",
   "metadata": {},
   "source": [
    "## `.format()`\n",
    "\n",
    ">| Parameter   | Description |\n",
    ">|-------------|-------------|\n",
    ">| `value1, value2` | Required. One or more values that should be formatted and inserted in the string. The values are either a list |\n",
    ">|             |of values separated by commas, a key=value list, or a combination of both.The values can be of any data type. |\n",
    ">\n",
    "> The format() method formats the specified value(s) and insert them inside the string's placeholder.\n",
    "> The placeholder is defined using curly brackets: {}. Read more about the placeholders in the Placeholder section below.\n",
    "> The format() method returns the formatted string.\n",
    ">\n",
    "> formating expressions\n",
    ">| expression | Description |\n",
    ">|------------|-------------|\n",
    ">|   {:.2f}   | format float with 2 digits after the dot.|\n",
    ">|   {:>3.2f} | format float with 2 digits after the dot. Align the text 3 spaces to the right|\n",
    "\n",
    "\n",
    "All Expression's:\n",
    "https://docs.python.org/3/library/string.html#format-specification-mini-language"
   ]
  },
  {
   "cell_type": "markdown",
   "id": "9a25f922-8cfc-45c3-a7cf-507aa0a78455",
   "metadata": {},
   "source": [
    "#### Difference f-string and .format() method\n",
    " - With f-strings, expressions are evaluated directly within the string literal.\n",
    " - With the format() method, values are passed as arguments to the method.\n",
    "\n",
    "\n",
    " - F-strings (Formatted string literals):\n",
    "The expressions are placed directly inside the string, enclosed in curly braces {}.\n",
    "These expressions are evaluated at runtime, right where they appear in the string.\n",
    "\n",
    "\n",
    " - The format() method:\n",
    "Placeholders (usually empty curly braces {}) are used within the string.\n",
    "The actual values are provided as arguments to the format() method, separate from the string itself.\n",
    "\n",
    "This difference in approach often makes f-strings more concise and readable, especially for simple string formatting tasks. However, both methods are powerful and have their own use cases in Python programming."
   ]
  },
  {
   "cell_type": "code",
   "execution_count": null,
   "id": "0865b930-5541-41c2-99e7-818ce4a85857",
   "metadata": {},
   "outputs": [],
   "source": []
  }
 ],
 "metadata": {
  "kernelspec": {
   "display_name": "Python 3 (ipykernel)",
   "language": "python",
   "name": "python3"
  },
  "language_info": {
   "codemirror_mode": {
    "name": "ipython",
    "version": 3
   },
   "file_extension": ".py",
   "mimetype": "text/x-python",
   "name": "python",
   "nbconvert_exporter": "python",
   "pygments_lexer": "ipython3",
   "version": "3.10.3"
  }
 },
 "nbformat": 4,
 "nbformat_minor": 5
}
