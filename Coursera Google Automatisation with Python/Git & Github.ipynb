{
 "cells": [
  {
   "cell_type": "markdown",
   "id": "db2ca778-556c-4daf-8865-7a48285a808d",
   "metadata": {},
   "source": [
    "## Diffing Files\n",
    "\n",
    "\n",
    "$ diff file1 file2\n",
    "\n",
    "$ diff -u file1 file2  # Unit format\n",
    "\n",
    "outputs:\n",
    " - < removed lines\n",
    " - \\> added lines\n",
    "\n",
    "\n",
    "$ wdiff  # Word-level diff tool, compares files word by word\n",
    "\n",
    "$ meld    # Visual diff and merge tool with GUI\n",
    "\n",
    "$ KDiff3  # Three-way file and directory comparison/merge tool\n",
    "\n",
    "$ vimdiff # Vim-based tool for side-by-side file comparison and editing\n",
    "\n",
    "### Applying Changes\n",
    "$ diff -u old_file new_file > changes.diff  # saves the content of the diff -u command in changes.diff\n",
    "\n",
    "These Files are called .diff-, or .patch-file. They include the changes and the explenation \n",
    "\n",
    "$ patch file.py < file.diff  # applies the changes automatically\n"
   ]
  },
  {
   "cell_type": "markdown",
   "id": "549aa8e4-b6a2-4c0b-9d85-d39426a208de",
   "metadata": {},
   "source": [
    "## Version Controll System\n",
    "- Keeps Track to the changes we make to our files\n",
    "- Git  # Created by Linus Torwalds in 2005\n",
    "- Sometimes also called Source Control Management (SCM)\n"
   ]
  },
  {
   "cell_type": "code",
   "execution_count": null,
   "id": "3e40f6f8-ee2e-45cd-b93a-d53896021e55",
   "metadata": {},
   "outputs": [],
   "source": []
  }
 ],
 "metadata": {
  "kernelspec": {
   "display_name": "Python 3 (ipykernel)",
   "language": "python",
   "name": "python3"
  },
  "language_info": {
   "codemirror_mode": {
    "name": "ipython",
    "version": 3
   },
   "file_extension": ".py",
   "mimetype": "text/x-python",
   "name": "python",
   "nbconvert_exporter": "python",
   "pygments_lexer": "ipython3",
   "version": "3.10.3"
  }
 },
 "nbformat": 4,
 "nbformat_minor": 5
}
