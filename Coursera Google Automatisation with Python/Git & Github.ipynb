{
 "cells": [
  {
   "cell_type": "markdown",
   "id": "db2ca778-556c-4daf-8865-7a48285a808d",
   "metadata": {},
   "source": [
    "## Diffing Files\n",
    "\n",
    "\n",
    "- `$ diff file1 file2`\n",
    "- `$ diff -u file1 file2`  # Unit format\n",
    "\n",
    "outputs:\n",
    " - < removed lines\n",
    " - \\> added lines\n",
    "\n",
    "- `$ wdiff`  # Word-level diff tool, compares files word by word\n",
    "- `$ meld`    # Visual diff and merge tool with GUI\n",
    "- `$ KDiff3`  # Three-way file and directory comparison/merge tool\n",
    "- `$ vimdiff` # Vim-based tool for side-by-side file comparison and editing\n",
    "\n",
    "### Applying Changes\n",
    "- `$ diff -u old_file new_file > changes.diff`  # saves the content of the diff -u command in changes.diff\n",
    "\n",
    "These Files are called .diff-, or .patch-file. They include the changes and the explenation \n",
    "\n",
    "- `$ patch file.py < file.diff`  # applies the changes automatically\n"
   ]
  },
  {
   "cell_type": "markdown",
   "id": "549aa8e4-b6a2-4c0b-9d85-d39426a208de",
   "metadata": {},
   "source": [
    "## Version Controll System\n",
    "- Keeps Track to the changes we make to our files\n",
    "- Git  # Created by Linus Torwalds in 2005\n",
    "- Sometimes also called Source Control Management (SCM)\n"
   ]
  },
  {
   "cell_type": "markdown",
   "id": "4318685c-e2e1-447a-87fa-f71b04cf9701",
   "metadata": {},
   "source": [
    "## Git\n",
    "\n",
    "### Conrigure Git\n",
    "- `$ git config --global user.name \"username\"`   # Use global flag to set that for all the repos \n",
    "- `$ git config --global user.email \"usermail\"`\n",
    "\n",
    "#### The \"\" is additional, git accepts both, only needed if string includes \" \" whitespaces\n",
    "\n",
    "### start with git\n",
    "- `$ git init`  # initializes a new repo in the currrent directory\n",
    "- `$ git clone example_repo`\n",
    "\n",
    "### staging Area\n",
    "- The staging area which is also known as the index is a file maintained by Git that contains all of the information about what files and changes are going to go into your next command.\n",
    "\n",
    "- `$ git add example_file` or `git add *`\n",
    "\n",
    "### Commiting to .git Directory\n",
    "- `$ git commit -m \"example_message\"` or `git commit`  # to open the texteditor `-m` means message allows to type the message in the terminal\n",
    "- `$ git commit -a`  #  a shortcut to stage any changes to tracked files and commit them in one step\n",
    "### other\n",
    "- `$ git status`  # gives information about tthe current working tree and pending changes\n",
    "- `$ git log`  # shows the commit history\n",
    "- `$ git log -p`  # p for patch. Equivilant to `diff -u`\n",
    "- `$ git log --stat`  #   show some stats about the changes in the commit\n",
    "\n",
    "- The git directory contains all the changes and their history and the working tree contains the current versions of the files.\n",
    "- tracked files 3 states:\n",
    "    - modified\n",
    "    - staged\n",
    "    - commited\n",
    "\n",
    "- `head` is used to indicate what the currently checked out snapshot is (like a bookmark)\n",
    "\n",
    "### Advanced Git Interactions\n",
    "- `$ git show <commit_id> `  # shows the content of a specific id\n",
    "- `$ git  diff --staged`  # shows the diff of the staged files that are not commited yet\n",
    "- `$ git rm <file>`  # removes a file / delets it\n",
    "- `$ git mv <old_file> <new_file>`  # moves or renames a file  \n",
    "\n",
    "### Undoing Things\n",
    "- modified\n",
    "    - `$ git checkout <file>`  # resets a file that is tracked but not staged yet\n",
    "- staged\n",
    "    - `$ git reset HEAD <file>`  # removes a file from the staging area"
   ]
  },
  {
   "cell_type": "markdown",
   "id": "12bb80e0-c85e-47ac-8388-9332bbe9816a",
   "metadata": {},
   "source": [
    "- `$ `  # "
   ]
  },
  {
   "cell_type": "code",
   "execution_count": null,
   "id": "c442f198-45fc-41db-a99d-9f063e4b2691",
   "metadata": {},
   "outputs": [],
   "source": []
  },
  {
   "cell_type": "code",
   "execution_count": null,
   "id": "5707d4e9-1fff-427b-bf5f-9c118d363ffe",
   "metadata": {},
   "outputs": [],
   "source": []
  }
 ],
 "metadata": {
  "kernelspec": {
   "display_name": "Python 3 (ipykernel)",
   "language": "python",
   "name": "python3"
  },
  "language_info": {
   "codemirror_mode": {
    "name": "ipython",
    "version": 3
   },
   "file_extension": ".py",
   "mimetype": "text/x-python",
   "name": "python",
   "nbconvert_exporter": "python",
   "pygments_lexer": "ipython3",
   "version": "3.10.3"
  }
 },
 "nbformat": 4,
 "nbformat_minor": 5
}
